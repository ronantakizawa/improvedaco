{
  "cells": [
    {
      "cell_type": "code",
      "execution_count": 1,
      "metadata": {
        "colab": {
          "base_uri": "https://localhost:8080/"
        },
        "collapsed": true,
        "id": "9qnEqKus6qZF",
        "outputId": "b1558a8b-cc61-457b-9989-65b23029640b"
      },
      "outputs": [
        {
          "output_type": "stream",
          "name": "stdout",
          "text": [
            "Requirement already satisfied: networkx in /usr/local/lib/python3.10/dist-packages (3.3)\n",
            "Collecting ortools\n",
            "  Downloading ortools-9.11.4210-cp310-cp310-manylinux_2_17_x86_64.manylinux2014_x86_64.whl.metadata (3.0 kB)\n",
            "Collecting absl-py>=2.0.0 (from ortools)\n",
            "  Downloading absl_py-2.1.0-py3-none-any.whl.metadata (2.3 kB)\n",
            "Requirement already satisfied: numpy>=1.13.3 in /usr/local/lib/python3.10/dist-packages (from ortools) (1.26.4)\n",
            "Requirement already satisfied: pandas>=2.0.0 in /usr/local/lib/python3.10/dist-packages (from ortools) (2.2.2)\n",
            "Collecting protobuf<5.27,>=5.26.1 (from ortools)\n",
            "  Downloading protobuf-5.26.1-cp37-abi3-manylinux2014_x86_64.whl.metadata (592 bytes)\n",
            "Requirement already satisfied: immutabledict>=3.0.0 in /usr/local/lib/python3.10/dist-packages (from ortools) (4.2.0)\n",
            "Requirement already satisfied: python-dateutil>=2.8.2 in /usr/local/lib/python3.10/dist-packages (from pandas>=2.0.0->ortools) (2.8.2)\n",
            "Requirement already satisfied: pytz>=2020.1 in /usr/local/lib/python3.10/dist-packages (from pandas>=2.0.0->ortools) (2024.2)\n",
            "Requirement already satisfied: tzdata>=2022.7 in /usr/local/lib/python3.10/dist-packages (from pandas>=2.0.0->ortools) (2024.2)\n",
            "Requirement already satisfied: six>=1.5 in /usr/local/lib/python3.10/dist-packages (from python-dateutil>=2.8.2->pandas>=2.0.0->ortools) (1.16.0)\n",
            "Downloading ortools-9.11.4210-cp310-cp310-manylinux_2_17_x86_64.manylinux2014_x86_64.whl (28.1 MB)\n",
            "\u001b[2K   \u001b[90m━━━━━━━━━━━━━━━━━━━━━━━━━━━━━━━━━━━━━━━━\u001b[0m \u001b[32m28.1/28.1 MB\u001b[0m \u001b[31m40.2 MB/s\u001b[0m eta \u001b[36m0:00:00\u001b[0m\n",
            "\u001b[?25hDownloading absl_py-2.1.0-py3-none-any.whl (133 kB)\n",
            "\u001b[2K   \u001b[90m━━━━━━━━━━━━━━━━━━━━━━━━━━━━━━━━━━━━━━━━\u001b[0m \u001b[32m133.7/133.7 kB\u001b[0m \u001b[31m8.8 MB/s\u001b[0m eta \u001b[36m0:00:00\u001b[0m\n",
            "\u001b[?25hDownloading protobuf-5.26.1-cp37-abi3-manylinux2014_x86_64.whl (302 kB)\n",
            "\u001b[2K   \u001b[90m━━━━━━━━━━━━━━━━━━━━━━━━━━━━━━━━━━━━━━━━\u001b[0m \u001b[32m302.8/302.8 kB\u001b[0m \u001b[31m21.0 MB/s\u001b[0m eta \u001b[36m0:00:00\u001b[0m\n",
            "\u001b[?25hInstalling collected packages: protobuf, absl-py, ortools\n",
            "  Attempting uninstall: protobuf\n",
            "    Found existing installation: protobuf 3.20.3\n",
            "    Uninstalling protobuf-3.20.3:\n",
            "      Successfully uninstalled protobuf-3.20.3\n",
            "  Attempting uninstall: absl-py\n",
            "    Found existing installation: absl-py 1.4.0\n",
            "    Uninstalling absl-py-1.4.0:\n",
            "      Successfully uninstalled absl-py-1.4.0\n",
            "\u001b[31mERROR: pip's dependency resolver does not currently take into account all the packages that are installed. This behaviour is the source of the following dependency conflicts.\n",
            "google-ai-generativelanguage 0.6.6 requires protobuf!=3.20.0,!=3.20.1,!=4.21.0,!=4.21.1,!=4.21.2,!=4.21.3,!=4.21.4,!=4.21.5,<5.0.0dev,>=3.19.5, but you have protobuf 5.26.1 which is incompatible.\n",
            "google-cloud-datastore 2.19.0 requires protobuf!=3.20.0,!=3.20.1,!=4.21.0,!=4.21.1,!=4.21.2,!=4.21.3,!=4.21.4,!=4.21.5,<5.0.0dev,>=3.19.5, but you have protobuf 5.26.1 which is incompatible.\n",
            "google-cloud-firestore 2.16.1 requires protobuf!=3.20.0,!=3.20.1,!=4.21.0,!=4.21.1,!=4.21.2,!=4.21.3,!=4.21.4,!=4.21.5,<5.0.0dev,>=3.19.5, but you have protobuf 5.26.1 which is incompatible.\n",
            "tensorboard 2.17.0 requires protobuf!=4.24.0,<5.0.0,>=3.19.6, but you have protobuf 5.26.1 which is incompatible.\n",
            "tensorflow 2.17.0 requires protobuf!=4.21.0,!=4.21.1,!=4.21.2,!=4.21.3,!=4.21.4,!=4.21.5,<5.0.0dev,>=3.20.3, but you have protobuf 5.26.1 which is incompatible.\n",
            "tensorflow-metadata 1.16.0 requires protobuf<4.21,>=3.20.3; python_version < \"3.11\", but you have protobuf 5.26.1 which is incompatible.\u001b[0m\u001b[31m\n",
            "\u001b[0mSuccessfully installed absl-py-2.1.0 ortools-9.11.4210 protobuf-5.26.1\n"
          ]
        }
      ],
      "source": [
        "!pip install networkx\n",
        "!pip install ortools"
      ]
    },
    {
      "cell_type": "code",
      "execution_count": 3,
      "metadata": {
        "colab": {
          "base_uri": "https://localhost:8080/"
        },
        "id": "VvMtSxcmtZ2M",
        "outputId": "cc10e48f-bdec-404d-a99a-263607422038"
      },
      "outputs": [
        {
          "output_type": "stream",
          "name": "stdout",
          "text": [
            "Using device: cuda\n"
          ]
        }
      ],
      "source": [
        "import numpy as np\n",
        "import torch\n",
        "import torch.nn as nn\n",
        "import torch.optim as optim\n",
        "import matplotlib.pyplot as plt\n",
        "import scipy.stats as stats\n",
        "from tqdm import tqdm\n",
        "import warnings\n",
        "import networkx as nx\n",
        "from ortools.constraint_solver import routing_enums_pb2\n",
        "from ortools.constraint_solver import pywrapcp\n",
        "\n",
        "\n",
        "# Set random seeds for reproducibility\n",
        "np.random.seed(42)\n",
        "torch.manual_seed(42)\n",
        "\n",
        "# Check device\n",
        "device = torch.device(\"cuda\" if torch.cuda.is_available() else \"cpu\")\n",
        "print(f\"Using device: {device}\")"
      ]
    },
    {
      "cell_type": "code",
      "execution_count": 15,
      "metadata": {
        "id": "s6uSAWpDtcNX"
      },
      "outputs": [],
      "source": [
        "class PositionalEncoding(nn.Module):\n",
        "    \"\"\"\n",
        "    Adds positional information to node embeddings.\n",
        "    \"\"\"\n",
        "    def __init__(self, d_model, max_len=5000):\n",
        "        super(PositionalEncoding, self).__init__()\n",
        "        pe = torch.zeros(max_len, d_model)\n",
        "        position = torch.arange(0, max_len).unsqueeze(1).float()\n",
        "        div_term = torch.exp(torch.arange(0, d_model, 2).float() * (-np.log(10000.0) / d_model))\n",
        "        pe[:, 0::2] = torch.sin(position * div_term)\n",
        "        pe[:, 1::2] = torch.cos(position * div_term)\n",
        "        pe = pe.unsqueeze(0)\n",
        "        self.register_buffer('pe', pe)\n",
        "\n",
        "    def forward(self, x):\n",
        "        \"\"\"\n",
        "        Args:\n",
        "            x: Tensor of shape (batch_size, seq_length, d_model)\n",
        "        Returns:\n",
        "            Tensor of shape (batch_size, seq_length, d_model)\n",
        "        \"\"\"\n",
        "        x = x + self.pe[:, :x.size(1)]\n",
        "        return x\n",
        "\n",
        "class TransformerModel(nn.Module):\n",
        "    \"\"\"\n",
        "    Transformer model that predicts pheromone matrix given node coordinates.\n",
        "    \"\"\"\n",
        "    def __init__(self, num_nodes, d_model=128, nhead=8, num_layers=8, dropout=0.1, learnable_pos=False):\n",
        "        super(TransformerModel, self).__init__()\n",
        "        self.d_model = d_model\n",
        "        self.input_projection = nn.Linear(2, d_model)\n",
        "\n",
        "        # Use learnable positional encoding if specified\n",
        "        if learnable_pos:\n",
        "            self.pos_encoder = nn.Parameter(torch.zeros(1, num_nodes, d_model))\n",
        "            nn.init.uniform_(self.pos_encoder, -0.02, 0.02)\n",
        "        else:\n",
        "            self.pos_encoder = PositionalEncoding(d_model)\n",
        "\n",
        "        encoder_layers = nn.TransformerEncoderLayer(d_model, nhead, dim_feedforward=512, dropout=dropout, batch_first=True)\n",
        "        self.transformer_encoder = nn.TransformerEncoder(encoder_layers, num_layers)\n",
        "        self.output_projection = nn.Linear(d_model, d_model)\n",
        "        self.final_activation = nn.ReLU()\n",
        "\n",
        "    def forward(self, x):\n",
        "        \"\"\"\n",
        "        Args:\n",
        "            x: Tensor of shape (batch_size, num_nodes, 2)  # Node coordinates\n",
        "        Returns:\n",
        "            pheromone_matrix: Tensor of shape (batch_size, num_nodes, num_nodes)\n",
        "        \"\"\"\n",
        "        x = self.input_projection(x)\n",
        "        x = x * np.sqrt(self.d_model)\n",
        "\n",
        "        # Apply positional encoding\n",
        "        if isinstance(self.pos_encoder, nn.Parameter):\n",
        "            x = x + self.pos_encoder[:, :x.size(1)]\n",
        "        else:\n",
        "            x = self.pos_encoder(x)\n",
        "\n",
        "        x = self.transformer_encoder(x)\n",
        "        x = self.output_projection(x)\n",
        "        pheromone_matrix = torch.matmul(x, x.transpose(1, 2))\n",
        "        pheromone_matrix = self.final_activation(pheromone_matrix)\n",
        "        return pheromone_matrix\n",
        "\n"
      ]
    },
    {
      "cell_type": "code",
      "execution_count": 16,
      "metadata": {
        "id": "OyVYUOZJti1P"
      },
      "outputs": [],
      "source": [
        "class StandardAntColonyOptimizer:\n",
        "    \"\"\"\n",
        "    Implements the standard Ant Colony Optimization algorithm for TSP.\n",
        "    Used for generating synthetic data and serving as a baseline.\n",
        "    \"\"\"\n",
        "    def __init__(self, num_nodes, distance_matrix, num_ants=10, alpha=1.0, beta=2.0, evaporation_rate=0.5, Q=100):\n",
        "        self.num_nodes = num_nodes\n",
        "        self.distance_matrix = distance_matrix\n",
        "        self.num_ants = num_ants\n",
        "        self.alpha = alpha\n",
        "        self.beta = beta\n",
        "        self.evaporation_rate = evaporation_rate\n",
        "        self.Q = Q\n",
        "        self.pheromone = np.ones((num_nodes, num_nodes))\n",
        "        self.best_distance = float('inf')\n",
        "        self.best_solution = None\n",
        "\n",
        "    def optimize(self, iterations=50):\n",
        "        \"\"\"\n",
        "        Runs the ACO algorithm for a specified number of iterations.\n",
        "        \"\"\"\n",
        "        for iteration in range(iterations):\n",
        "            all_solutions = []\n",
        "            all_distances = []\n",
        "            for _ in range(self.num_ants):\n",
        "                solution = self.construct_solution()\n",
        "                distance = self.calculate_total_distance(solution)\n",
        "                all_solutions.append(solution)\n",
        "                all_distances.append(distance)\n",
        "                if distance < self.best_distance:\n",
        "                    self.best_distance = distance\n",
        "                    self.best_solution = solution\n",
        "            self.update_pheromone(all_solutions, all_distances)\n",
        "        return self.best_solution, self.best_distance\n",
        "\n",
        "    def construct_solution(self):\n",
        "        \"\"\"\n",
        "        Constructs a solution (tour) by probabilistically selecting the next node based on pheromone and heuristic.\n",
        "        \"\"\"\n",
        "        solution = []\n",
        "        visited = set()\n",
        "        current_node = np.random.randint(0, self.num_nodes)\n",
        "        solution.append(current_node)\n",
        "        visited.add(current_node)\n",
        "\n",
        "        for _ in range(self.num_nodes - 1):\n",
        "            probabilities = self.calculate_transition_probabilities(current_node, visited)\n",
        "            next_node = np.random.choice(range(self.num_nodes), p=probabilities)\n",
        "            solution.append(next_node)\n",
        "            visited.add(next_node)\n",
        "            current_node = next_node\n",
        "        return solution\n",
        "\n",
        "    def calculate_transition_probabilities(self, current_node, visited):\n",
        "        \"\"\"\n",
        "        Calculates the probability of moving to each node not yet visited.\n",
        "        \"\"\"\n",
        "        pheromone = self.pheromone[current_node] ** self.alpha\n",
        "        heuristic = (1.0 / (self.distance_matrix[current_node] + 1e-10)) ** self.beta\n",
        "        pheromone[list(visited)] = 0\n",
        "        heuristic[list(visited)] = 0\n",
        "\n",
        "        numerator = pheromone * heuristic\n",
        "        denominator = np.sum(numerator)\n",
        "        if denominator == 0:\n",
        "            probabilities = np.ones(self.num_nodes) / self.num_nodes\n",
        "        else:\n",
        "            probabilities = numerator / denominator\n",
        "        return probabilities\n",
        "\n",
        "    def update_pheromone(self, solutions, distances):\n",
        "        \"\"\"\n",
        "        Updates pheromone levels based on the solutions found by ants.\n",
        "        \"\"\"\n",
        "        self.pheromone *= (1 - self.evaporation_rate)\n",
        "\n",
        "        for solution, distance in zip(solutions, distances):\n",
        "            pheromone_increment = self.Q / distance\n",
        "            for i in range(len(solution) - 1):\n",
        "                from_node = solution[i]\n",
        "                to_node = solution[i + 1]\n",
        "                self.pheromone[from_node][to_node] += pheromone_increment\n",
        "            from_node = solution[-1]\n",
        "            to_node = solution[0]\n",
        "            self.pheromone[from_node][to_node] += pheromone_increment\n",
        "\n",
        "    def calculate_total_distance(self, solution):\n",
        "        \"\"\"\n",
        "        Calculates the total distance of the tour.\n",
        "        \"\"\"\n",
        "        distance = 0.0\n",
        "        for i in range(len(solution) - 1):\n",
        "            distance += self.distance_matrix[solution[i]][solution[i + 1]]\n",
        "        distance += self.distance_matrix[solution[-1]][solution[0]]\n",
        "        return distance\n",
        "\n",
        "class ImprovedAntColonyOptimizer:\n",
        "    \"\"\"\n",
        "    Enhanced ACO algorithm where the initial pheromone matrix is predicted by the Transformer model.\n",
        "    \"\"\"\n",
        "    def __init__(self, num_nodes, distance_matrix, initial_pheromone=None, num_ants=10, alpha=1.0, beta=2.0, evaporation_rate=0.5, Q=100):\n",
        "        self.num_nodes = num_nodes\n",
        "        self.distance_matrix = distance_matrix\n",
        "        self.num_ants = num_ants\n",
        "        self.alpha = alpha\n",
        "        self.beta = beta\n",
        "        self.evaporation_rate = evaporation_rate\n",
        "        self.Q = Q\n",
        "        if initial_pheromone is not None:\n",
        "            self.pheromone = initial_pheromone  # Use the provided initial pheromone matrix\n",
        "        else:\n",
        "            self.pheromone = np.ones((num_nodes, num_nodes))  # Initialize pheromone levels uniformly\n",
        "        self.best_distance = float('inf')\n",
        "        self.best_solution = None\n",
        "\n",
        "    def optimize(self, iterations=50):\n",
        "        \"\"\"\n",
        "        Runs the ImprovedACO algorithm for a specified number of iterations.\n",
        "        \"\"\"\n",
        "        for iteration in range(iterations):\n",
        "            all_solutions = []\n",
        "            all_distances = []\n",
        "            for _ in range(self.num_ants):\n",
        "                solution = self.construct_solution()\n",
        "                distance = self.calculate_total_distance(solution)\n",
        "                all_solutions.append(solution)\n",
        "                all_distances.append(distance)\n",
        "                if distance < self.best_distance:\n",
        "                    self.best_distance = distance\n",
        "                    self.best_solution = solution\n",
        "            self.update_pheromone(all_solutions, all_distances)\n",
        "        return self.best_solution, self.best_distance\n",
        "\n",
        "    def construct_solution(self):\n",
        "        \"\"\"\n",
        "        Constructs a solution (tour) by probabilistically selecting the next node based on pheromone and heuristic.\n",
        "        \"\"\"\n",
        "        solution = []\n",
        "        visited = set()\n",
        "        current_node = np.random.randint(0, self.num_nodes)\n",
        "        solution.append(current_node)\n",
        "        visited.add(current_node)\n",
        "\n",
        "        for _ in range(self.num_nodes - 1):\n",
        "            probabilities = self.calculate_transition_probabilities(current_node, visited)\n",
        "            next_node = np.random.choice(range(self.num_nodes), p=probabilities)\n",
        "            solution.append(next_node)\n",
        "            visited.add(next_node)\n",
        "            current_node = next_node\n",
        "        return solution\n",
        "\n",
        "    def calculate_transition_probabilities(self, current_node, visited):\n",
        "        \"\"\"\n",
        "        Calculates the probability of moving to each node not yet visited.\n",
        "        \"\"\"\n",
        "        pheromone = self.pheromone[current_node] ** self.alpha\n",
        "        heuristic = (1.0 / (self.distance_matrix[current_node] + 1e-10)) ** self.beta\n",
        "        pheromone[list(visited)] = 0\n",
        "        heuristic[list(visited)] = 0\n",
        "\n",
        "        numerator = pheromone * heuristic\n",
        "        denominator = np.sum(numerator)\n",
        "        if denominator == 0:\n",
        "            probabilities = np.ones(self.num_nodes) / self.num_nodes\n",
        "        else:\n",
        "            probabilities = numerator / denominator\n",
        "        return probabilities\n",
        "\n",
        "    def update_pheromone(self, solutions, distances):\n",
        "        \"\"\"\n",
        "        Updates pheromone levels based on the solutions found by ants.\n",
        "        \"\"\"\n",
        "        self.pheromone *= (1 - self.evaporation_rate)\n",
        "\n",
        "        for solution, distance in zip(solutions, distances):\n",
        "            pheromone_increment = self.Q / distance\n",
        "            for i in range(len(solution) - 1):\n",
        "                from_node = solution[i]\n",
        "                to_node = solution[i + 1]\n",
        "                self.pheromone[from_node][to_node] += pheromone_increment\n",
        "            from_node = solution[-1]\n",
        "            to_node = solution[0]\n",
        "            self.pheromone[from_node][to_node] += pheromone_increment\n",
        "\n",
        "    def calculate_total_distance(self, solution):\n",
        "        \"\"\"\n",
        "        Calculates the total distance of the tour.\n",
        "        \"\"\"\n",
        "        distance = 0.0\n",
        "        for i in range(len(solution) - 1):\n",
        "            distance += self.distance_matrix[solution[i]][solution[i + 1]]\n",
        "        distance += self.distance_matrix[solution[-1]][solution[0]]\n",
        "        return distance"
      ]
    },
    {
      "cell_type": "code",
      "execution_count": 17,
      "metadata": {
        "id": "s3Uhk0CutmY-"
      },
      "outputs": [],
      "source": [
        "import numpy as np\n",
        "from tqdm import tqdm\n",
        "from scipy.spatial.distance import cdist\n",
        "from joblib import Parallel, delayed\n",
        "\n",
        "def generate_tsp_solutions(num_nodes, num_samples=100, num_ants=50, iterations=100, n_jobs=-1):\n",
        "    \"\"\"\n",
        "    Generates TSP solutions and pheromone matrices for randomly generated node coordinates.\n",
        "    Utilizes parallel processing to speed up computation.\n",
        "\n",
        "    Parameters:\n",
        "    - num_nodes: Number of nodes in the TSP problem.\n",
        "    - num_samples: Number of random TSP instances to generate.\n",
        "    - num_ants: Number of ants in the ACO algorithm.\n",
        "    - iterations: Number of iterations for the ACO algorithm.\n",
        "    - n_jobs: Number of parallel jobs. -1 means using all processors.\n",
        "\n",
        "    Returns:\n",
        "    - coordinates_list: Array of node coordinates for each sample.\n",
        "    - pheromone_matrices: Array of pheromone matrices for each sample.\n",
        "    \"\"\"\n",
        "    def process_sample(_):\n",
        "        # Generate random coordinates for nodes\n",
        "        coordinates = np.random.rand(num_nodes, 2)\n",
        "\n",
        "        # Compute Euclidean distance matrix using scipy for efficiency\n",
        "        distance_matrix = cdist(coordinates, coordinates, metric='euclidean')\n",
        "\n",
        "        try:\n",
        "            # Initialize and run the ACO optimizer\n",
        "            standard_aco = StandardAntColonyOptimizer(\n",
        "                num_nodes=num_nodes,\n",
        "                distance_matrix=distance_matrix,\n",
        "                num_ants=num_ants,\n",
        "                alpha=1.0,\n",
        "                beta=2.0,\n",
        "                evaporation_rate=0.3,\n",
        "                Q=100\n",
        "            )\n",
        "            standard_aco.optimize(iterations=iterations)\n",
        "\n",
        "            # Get and normalize the pheromone matrix\n",
        "            pheromone_matrix = standard_aco.pheromone.copy()\n",
        "            pheromone_matrix -= pheromone_matrix.min()\n",
        "            max_val = pheromone_matrix.max()\n",
        "            pheromone_matrix /= max_val if max_val > 0 else 1\n",
        "\n",
        "            return coordinates, pheromone_matrix\n",
        "        except Exception as e:\n",
        "            print(f\"Error processing sample: {e}\")\n",
        "            return None, None\n",
        "\n",
        "    # Use parallel processing to handle multiple samples concurrently\n",
        "    results = Parallel(n_jobs=n_jobs)(\n",
        "        delayed(process_sample)(i) for i in tqdm(range(num_samples), desc=\"Generating TSP Solutions\")\n",
        "    )\n",
        "\n",
        "    # Filter out any None results from failed samples\n",
        "    results = [res for res in results if res[0] is not None]\n",
        "\n",
        "    # Unpack the results\n",
        "    coordinates_list, pheromone_matrices = zip(*results)\n",
        "\n",
        "    return np.array(coordinates_list), np.array(pheromone_matrices)\n",
        "\n",
        "# Example usage:\n",
        "# coordinates, pheromones = generate_tsp_solutions(num_nodes=50, num_samples=100, n_jobs=-1)\n"
      ]
    },
    {
      "cell_type": "code",
      "execution_count": 32,
      "metadata": {
        "id": "MDsusBoTtpj3"
      },
      "outputs": [],
      "source": [
        "def run_experiment(node_sizes, num_trials=50, iterations=100, num_ants=50, alpha=1.0, beta=2.0, evaporation_rate=0.3, Q=100):\n",
        "    \"\"\"\n",
        "    Runs experiments comparing StandardACO and ImprovedACO across multiple node sizes.\n",
        "    Prints comparisons for each trial and plots the results.\n",
        "    \"\"\"\n",
        "    results = {}\n",
        "\n",
        "    for num_nodes in node_sizes:\n",
        "        print(f\"\\n=== Node Size: {num_nodes} ===\")\n",
        "\n",
        "        print(\"Generating synthetic data for training...\")\n",
        "        coordinates_list, pheromone_matrices = generate_tsp_solutions(\n",
        "            num_nodes=num_nodes,\n",
        "            num_samples=500\n",
        "        )\n",
        "\n",
        "        split_index = int(0.8 * len(coordinates_list))\n",
        "        train_coords = coordinates_list[:split_index]\n",
        "        val_coords = coordinates_list[split_index:]\n",
        "        train_pheromones = pheromone_matrices[:split_index]\n",
        "        val_pheromones = pheromone_matrices[split_index:]\n",
        "\n",
        "        train_coords_tensor = torch.tensor(train_coords, dtype=torch.float).to(device)\n",
        "        train_pheromone_tensors = torch.tensor(train_pheromones, dtype=torch.float).to(device)\n",
        "        val_coords_tensor = torch.tensor(val_coords, dtype=torch.float).to(device)\n",
        "        val_pheromone_tensors = torch.tensor(val_pheromones, dtype=torch.float).to(device)\n",
        "\n",
        "        model = TransformerModel(num_nodes=num_nodes, d_model=128, nhead=8, num_layers=6, dropout=0.1, learnable_pos=True).to(device)\n",
        "        criterion = nn.MSELoss()\n",
        "        optimizer_model = optim.Adam(model.parameters(), lr=0.001)\n",
        "        scheduler = optim.lr_scheduler.ReduceLROnPlateau(optimizer_model, 'min', patience=5, factor=0.5)\n",
        "\n",
        "        print(\"Training Transformer Model...\")\n",
        "        epochs = 50\n",
        "        batch_size = 32\n",
        "        num_samples = train_coords_tensor.size(0)\n",
        "        best_val_loss = float('inf')\n",
        "        patience = 10\n",
        "        patience_counter = 0\n",
        "\n",
        "        for epoch in range(epochs):\n",
        "            # Training\n",
        "            model.train()\n",
        "            permutation = torch.randperm(num_samples)\n",
        "            train_loss = 0.0\n",
        "            for i in range(0, num_samples, batch_size):\n",
        "                indices = permutation[i:i+batch_size]\n",
        "                input_batch = train_coords_tensor[indices]\n",
        "                target_batch = train_pheromone_tensors[indices]\n",
        "\n",
        "                optimizer_model.zero_grad()\n",
        "                output = model(input_batch)\n",
        "                loss = criterion(output, target_batch)\n",
        "                loss.backward()\n",
        "                optimizer_model.step()\n",
        "\n",
        "                train_loss += loss.item()\n",
        "\n",
        "            avg_train_loss = train_loss / (num_samples / batch_size)\n",
        "\n",
        "            model.eval()\n",
        "            with torch.no_grad():\n",
        "                val_output = model(val_coords_tensor)\n",
        "                val_loss = criterion(val_output, val_pheromone_tensors).item()\n",
        "\n",
        "            scheduler.step(val_loss)\n",
        "\n",
        "            print(f\"Epoch {epoch+1}/{epochs}, Train Loss: {avg_train_loss:.4f}, Val Loss: {val_loss:.4f}\")\n",
        "\n",
        "            # Early stopping\n",
        "            if val_loss < best_val_loss:\n",
        "                best_val_loss = val_loss\n",
        "                patience_counter = 0\n",
        "                # Save the best model\n",
        "                torch.save(model.state_dict(), f'best_model_{num_nodes}.pth')\n",
        "            else:\n",
        "                patience_counter += 1\n",
        "                if patience_counter >= patience:\n",
        "                    print(\"Early stopping triggered.\")\n",
        "                    break\n",
        "\n",
        "        model.load_state_dict(torch.load(f'best_model_{num_nodes}.pth'))\n",
        "\n",
        "        results[num_nodes] = {'StandardACO': [], 'ImprovedACO': []}\n",
        "\n",
        "        print(f\"Running {num_trials} trials for node size {num_nodes}...\")\n",
        "        for trial in tqdm(range(num_trials), desc=f\"Trials for node size {num_nodes}\"):\n",
        "            trial_number = trial + 1\n",
        "            coordinates = np.random.rand(num_nodes, 2)\n",
        "            distance_matrix = np.sqrt(\n",
        "                (coordinates[:, np.newaxis, 0] - coordinates[np.newaxis, :, 0]) ** 2 +\n",
        "                (coordinates[:, np.newaxis, 1] - coordinates[np.newaxis, :, 1]) ** 2\n",
        "            )\n",
        "\n",
        "            coordinates_input = torch.tensor(coordinates[np.newaxis, :, :], dtype=torch.float).to(device)\n",
        "            with torch.no_grad():\n",
        "                model.eval()\n",
        "                predicted_pheromone = model(coordinates_input)\n",
        "            predicted_pheromone_np = predicted_pheromone.cpu().numpy()[0]\n",
        "\n",
        "            predicted_pheromone_np -= predicted_pheromone_np.min()\n",
        "            predicted_pheromone_np /= predicted_pheromone_np.max() if predicted_pheromone_np.max() > 0 else 1\n",
        "            predicted_pheromone_np += 1e-6\n",
        "\n",
        "            standard_aco = StandardAntColonyOptimizer(\n",
        "                num_nodes=num_nodes,\n",
        "                distance_matrix=distance_matrix,\n",
        "                num_ants=num_ants,\n",
        "                alpha=alpha,\n",
        "                beta=beta,\n",
        "                evaporation_rate=evaporation_rate,\n",
        "                Q=Q\n",
        "            )\n",
        "            improved_aco = ImprovedAntColonyOptimizer(\n",
        "                num_nodes=num_nodes,\n",
        "                distance_matrix=distance_matrix,\n",
        "                initial_pheromone=predicted_pheromone_np,\n",
        "                num_ants=num_ants,\n",
        "                alpha=alpha,\n",
        "                beta=beta,\n",
        "                evaporation_rate=evaporation_rate,\n",
        "                Q=Q\n",
        "            )\n",
        "\n",
        "            _, best_distance_standard = standard_aco.optimize(iterations=iterations)\n",
        "            _, best_distance_improved = improved_aco.optimize(iterations=iterations)\n",
        "\n",
        "            results[num_nodes]['StandardACO'].append(best_distance_standard)\n",
        "            results[num_nodes]['ImprovedACO'].append(best_distance_improved)\n",
        "\n",
        "            print(f\"Trial {trial_number}: StandardACO Best Distance = {best_distance_standard:.4f}, ImprovedACO Best Distance = {best_distance_improved:.4f}\")\n",
        "\n",
        "        # Plotting results for this node size\n",
        "        plt.figure(figsize=(10, 6))\n",
        "        plt.plot(results[num_nodes]['StandardACO'], label='StandardACO', marker='o')\n",
        "        plt.plot(results[num_nodes]['ImprovedACO'], label='ImprovedACO', marker='s')\n",
        "        plt.title(f\"Best Distances for Node Size: {num_nodes}\")\n",
        "        plt.xlabel(\"Trial\")\n",
        "        plt.ylabel(\"Best Distance\")\n",
        "        plt.legend()\n",
        "        plt.grid(True)\n",
        "        plt.show()\n",
        "\n",
        "        del model\n",
        "\n",
        "    return results\n"
      ]
    },
    {
      "cell_type": "code",
      "execution_count": 33,
      "metadata": {
        "id": "IrNCLQDMtsla"
      },
      "outputs": [],
      "source": [
        "def perform_statistical_tests(results):\n",
        "    \"\"\"\n",
        "    Performs Wilcoxon signed-rank tests for each node size.\n",
        "    Returns a dictionary of p-values.\n",
        "    \"\"\"\n",
        "    node_sizes = sorted(results.keys())\n",
        "    p_values = {}\n",
        "\n",
        "    for num_nodes in node_sizes:\n",
        "        standard = results[num_nodes]['StandardACO']\n",
        "        improved = results[num_nodes]['ImprovedACO']\n",
        "        stat, p = stats.wilcoxon(standard, improved)\n",
        "        p_values[num_nodes] = p\n",
        "        print(f\"Node Size {num_nodes}: p-value = {p:.4e}\")\n",
        "\n",
        "    return p_values"
      ]
    },
    {
      "cell_type": "code",
      "execution_count": 34,
      "metadata": {
        "id": "Y0ks7n3Itu5k"
      },
      "outputs": [],
      "source": [
        "def plot_results(results, p_values):\n",
        "    \"\"\"\n",
        "    Plots average best distances for StandardACO and ImprovedACO across node sizes.\n",
        "    Annotates significance based on p-values.\n",
        "    \"\"\"\n",
        "    node_sizes = sorted(results.keys())\n",
        "    standard_means = [np.mean(results[size]['StandardACO']) for size in node_sizes]\n",
        "    improved_means = [np.mean(results[size]['ImprovedACO']) for size in node_sizes]\n",
        "    standard_stds = [np.std(results[size]['StandardACO']) for size in node_sizes]\n",
        "    improved_stds = [np.std(results[size]['ImprovedACO']) for size in node_sizes]\n",
        "\n",
        "    x = np.arange(len(node_sizes))\n",
        "    width = 0.35\n",
        "\n",
        "    fig, ax = plt.subplots(figsize=(12, 6))\n",
        "    rects1 = ax.bar(x - width/2, standard_means, width, yerr=standard_stds, label='Standard ACO', capsize=5, color='skyblue')\n",
        "    rects2 = ax.bar(x + width/2, improved_means, width, yerr=improved_stds, label='ImprovedACO (Transformer)', capsize=5, color='salmon')\n",
        "\n",
        "    ax.set_ylabel('Average Best Distance')\n",
        "    ax.set_xlabel('Number of Nodes')\n",
        "    ax.set_title('Comparison of StandardACO vs. ImprovedACO Across Different Node Sizes')\n",
        "    ax.set_xticks(x)\n",
        "    ax.set_xticklabels(node_sizes)\n",
        "    ax.legend()\n",
        "\n",
        "    for i, size in enumerate(node_sizes):\n",
        "        p = p_values[size]\n",
        "        if p < 0.001:\n",
        "            significance = '***'\n",
        "        elif p < 0.01:\n",
        "            significance = '**'\n",
        "        elif p < 0.05:\n",
        "            significance = '*'\n",
        "        else:\n",
        "            significance = 'ns'\n",
        "        ax.text(x[i], max(standard_means[i], improved_means[i]) + max(standard_stds[i], improved_stds[i]) + 0.05, significance, ha='center', va='bottom', color='black', fontsize=12)\n",
        "\n",
        "    plt.tight_layout()\n",
        "    plt.show()"
      ]
    },
    {
      "cell_type": "code",
      "execution_count": 35,
      "metadata": {
        "colab": {
          "base_uri": "https://localhost:8080/",
          "height": 1000
        },
        "id": "v1BOzjVm6lVh",
        "outputId": "7e9987b6-0fcf-4cc6-ff85-c55dfb52c2a8",
        "collapsed": true
      },
      "outputs": [
        {
          "output_type": "stream",
          "name": "stdout",
          "text": [
            "\n",
            "=== Node Size: 30 ===\n",
            "Generating synthetic data for training...\n"
          ]
        },
        {
          "output_type": "stream",
          "name": "stderr",
          "text": [
            "Generating TSP Solutions: 100%|██████████| 500/500 [09:31<00:00,  1.14s/it]\n"
          ]
        },
        {
          "output_type": "stream",
          "name": "stdout",
          "text": [
            "Training Transformer Model...\n",
            "Epoch 1/50, Train Loss: 263.5825, Val Loss: 7.8829\n",
            "Epoch 2/50, Train Loss: 4.5650, Val Loss: 1.6364\n",
            "Epoch 3/50, Train Loss: 1.1278, Val Loss: 0.2654\n",
            "Epoch 4/50, Train Loss: 0.4069, Val Loss: 0.0605\n",
            "Epoch 5/50, Train Loss: 0.2662, Val Loss: 0.0263\n",
            "Epoch 6/50, Train Loss: 0.2225, Val Loss: 0.0202\n",
            "Epoch 7/50, Train Loss: 0.2001, Val Loss: 0.0192\n",
            "Epoch 8/50, Train Loss: 0.1853, Val Loss: 0.0190\n",
            "Epoch 9/50, Train Loss: 0.1680, Val Loss: 0.0190\n",
            "Epoch 10/50, Train Loss: 0.1573, Val Loss: 0.0192\n",
            "Epoch 11/50, Train Loss: 0.1472, Val Loss: 0.0194\n",
            "Epoch 12/50, Train Loss: 0.1379, Val Loss: 0.0194\n",
            "Epoch 13/50, Train Loss: 0.1323, Val Loss: 0.0193\n",
            "Epoch 14/50, Train Loss: 0.1271, Val Loss: 0.0195\n",
            "Epoch 15/50, Train Loss: 0.1252, Val Loss: 0.0194\n",
            "Epoch 16/50, Train Loss: 0.1225, Val Loss: 0.0194\n",
            "Epoch 17/50, Train Loss: 0.1198, Val Loss: 0.0196\n"
          ]
        },
        {
          "output_type": "stream",
          "name": "stderr",
          "text": [
            "<ipython-input-32-0f9572364df2>:82: FutureWarning: You are using `torch.load` with `weights_only=False` (the current default value), which uses the default pickle module implicitly. It is possible to construct malicious pickle data which will execute arbitrary code during unpickling (See https://github.com/pytorch/pytorch/blob/main/SECURITY.md#untrusted-models for more details). In a future release, the default value for `weights_only` will be flipped to `True`. This limits the functions that could be executed during unpickling. Arbitrary objects will no longer be allowed to be loaded via this mode unless they are explicitly allowlisted by the user via `torch.serialization.add_safe_globals`. We recommend you start setting `weights_only=True` for any use case where you don't have full control of the loaded file. Please open an issue on GitHub for any issues related to this experimental feature.\n",
            "  model.load_state_dict(torch.load(f'best_model_{num_nodes}.pth'))\n"
          ]
        },
        {
          "output_type": "stream",
          "name": "stdout",
          "text": [
            "Epoch 18/50, Train Loss: 0.1206, Val Loss: 0.0193\n",
            "Early stopping triggered.\n",
            "Running 30 trials for node size 30...\n"
          ]
        },
        {
          "output_type": "stream",
          "name": "stderr",
          "text": [
            "Trials for node size 30:   3%|▎         | 1/30 [00:03<01:29,  3.09s/it]"
          ]
        },
        {
          "output_type": "stream",
          "name": "stdout",
          "text": [
            "Trial 1: StandardACO Best Distance = 4.6489, ImprovedACO Best Distance = 4.5082\n"
          ]
        },
        {
          "output_type": "stream",
          "name": "stderr",
          "text": [
            "\rTrials for node size 30:   7%|▋         | 2/30 [00:06<01:26,  3.08s/it]"
          ]
        },
        {
          "output_type": "stream",
          "name": "stdout",
          "text": [
            "Trial 2: StandardACO Best Distance = 4.9910, ImprovedACO Best Distance = 4.7393\n"
          ]
        },
        {
          "output_type": "stream",
          "name": "stderr",
          "text": [
            "\rTrials for node size 30:  10%|█         | 3/30 [00:09<01:23,  3.09s/it]"
          ]
        },
        {
          "output_type": "stream",
          "name": "stdout",
          "text": [
            "Trial 3: StandardACO Best Distance = 4.7712, ImprovedACO Best Distance = 4.8517\n"
          ]
        },
        {
          "output_type": "stream",
          "name": "stderr",
          "text": [
            "\rTrials for node size 30:  13%|█▎        | 4/30 [00:12<01:20,  3.09s/it]"
          ]
        },
        {
          "output_type": "stream",
          "name": "stdout",
          "text": [
            "Trial 4: StandardACO Best Distance = 4.5246, ImprovedACO Best Distance = 4.4182\n"
          ]
        },
        {
          "output_type": "stream",
          "name": "stderr",
          "text": [
            "\rTrials for node size 30:  17%|█▋        | 5/30 [00:15<01:17,  3.11s/it]"
          ]
        },
        {
          "output_type": "stream",
          "name": "stdout",
          "text": [
            "Trial 5: StandardACO Best Distance = 4.5338, ImprovedACO Best Distance = 4.5924\n"
          ]
        },
        {
          "output_type": "stream",
          "name": "stderr",
          "text": [
            "\rTrials for node size 30:  20%|██        | 6/30 [00:18<01:14,  3.10s/it]"
          ]
        },
        {
          "output_type": "stream",
          "name": "stdout",
          "text": [
            "Trial 6: StandardACO Best Distance = 4.6148, ImprovedACO Best Distance = 4.7949\n"
          ]
        },
        {
          "output_type": "stream",
          "name": "stderr",
          "text": [
            "\rTrials for node size 30:  23%|██▎       | 7/30 [00:21<01:11,  3.12s/it]"
          ]
        },
        {
          "output_type": "stream",
          "name": "stdout",
          "text": [
            "Trial 7: StandardACO Best Distance = 4.9457, ImprovedACO Best Distance = 4.7455\n"
          ]
        },
        {
          "output_type": "stream",
          "name": "stderr",
          "text": [
            "\rTrials for node size 30:  27%|██▋       | 8/30 [00:25<01:09,  3.17s/it]"
          ]
        },
        {
          "output_type": "stream",
          "name": "stdout",
          "text": [
            "Trial 8: StandardACO Best Distance = 4.7736, ImprovedACO Best Distance = 4.7645\n"
          ]
        },
        {
          "output_type": "stream",
          "name": "stderr",
          "text": [
            "\rTrials for node size 30:  30%|███       | 9/30 [00:28<01:05,  3.14s/it]"
          ]
        },
        {
          "output_type": "stream",
          "name": "stdout",
          "text": [
            "Trial 9: StandardACO Best Distance = 4.8252, ImprovedACO Best Distance = 5.2122\n"
          ]
        },
        {
          "output_type": "stream",
          "name": "stderr",
          "text": [
            "\rTrials for node size 30:  33%|███▎      | 10/30 [00:31<01:02,  3.14s/it]"
          ]
        },
        {
          "output_type": "stream",
          "name": "stdout",
          "text": [
            "Trial 10: StandardACO Best Distance = 4.9872, ImprovedACO Best Distance = 4.9400\n"
          ]
        },
        {
          "output_type": "stream",
          "name": "stderr",
          "text": [
            "\rTrials for node size 30:  37%|███▋      | 11/30 [00:34<00:59,  3.13s/it]"
          ]
        },
        {
          "output_type": "stream",
          "name": "stdout",
          "text": [
            "Trial 11: StandardACO Best Distance = 4.9861, ImprovedACO Best Distance = 4.9708\n"
          ]
        },
        {
          "output_type": "stream",
          "name": "stderr",
          "text": [
            "\rTrials for node size 30:  40%|████      | 12/30 [00:37<00:56,  3.12s/it]"
          ]
        },
        {
          "output_type": "stream",
          "name": "stdout",
          "text": [
            "Trial 12: StandardACO Best Distance = 4.3882, ImprovedACO Best Distance = 4.3882\n"
          ]
        },
        {
          "output_type": "stream",
          "name": "stderr",
          "text": [
            "\rTrials for node size 30:  43%|████▎     | 13/30 [00:40<00:52,  3.11s/it]"
          ]
        },
        {
          "output_type": "stream",
          "name": "stdout",
          "text": [
            "Trial 13: StandardACO Best Distance = 4.7821, ImprovedACO Best Distance = 4.7580\n"
          ]
        },
        {
          "output_type": "stream",
          "name": "stderr",
          "text": [
            "\rTrials for node size 30:  47%|████▋     | 14/30 [00:43<00:49,  3.11s/it]"
          ]
        },
        {
          "output_type": "stream",
          "name": "stdout",
          "text": [
            "Trial 14: StandardACO Best Distance = 4.9717, ImprovedACO Best Distance = 4.7097\n"
          ]
        },
        {
          "output_type": "stream",
          "name": "stderr",
          "text": [
            "\rTrials for node size 30:  50%|█████     | 15/30 [00:46<00:46,  3.11s/it]"
          ]
        },
        {
          "output_type": "stream",
          "name": "stdout",
          "text": [
            "Trial 15: StandardACO Best Distance = 4.5133, ImprovedACO Best Distance = 4.5279\n"
          ]
        },
        {
          "output_type": "stream",
          "name": "stderr",
          "text": [
            "\rTrials for node size 30:  53%|█████▎    | 16/30 [00:49<00:43,  3.12s/it]"
          ]
        },
        {
          "output_type": "stream",
          "name": "stdout",
          "text": [
            "Trial 16: StandardACO Best Distance = 5.1828, ImprovedACO Best Distance = 4.9807\n"
          ]
        },
        {
          "output_type": "stream",
          "name": "stderr",
          "text": [
            "\rTrials for node size 30:  57%|█████▋    | 17/30 [00:53<00:40,  3.12s/it]"
          ]
        },
        {
          "output_type": "stream",
          "name": "stdout",
          "text": [
            "Trial 17: StandardACO Best Distance = 4.5434, ImprovedACO Best Distance = 4.6225\n"
          ]
        },
        {
          "output_type": "stream",
          "name": "stderr",
          "text": [
            "\rTrials for node size 30:  60%|██████    | 18/30 [00:56<00:37,  3.11s/it]"
          ]
        },
        {
          "output_type": "stream",
          "name": "stdout",
          "text": [
            "Trial 18: StandardACO Best Distance = 4.4525, ImprovedACO Best Distance = 4.4746\n"
          ]
        },
        {
          "output_type": "stream",
          "name": "stderr",
          "text": [
            "\rTrials for node size 30:  63%|██████▎   | 19/30 [00:59<00:34,  3.11s/it]"
          ]
        },
        {
          "output_type": "stream",
          "name": "stdout",
          "text": [
            "Trial 19: StandardACO Best Distance = 4.8078, ImprovedACO Best Distance = 4.7732\n"
          ]
        },
        {
          "output_type": "stream",
          "name": "stderr",
          "text": [
            "\rTrials for node size 30:  67%|██████▋   | 20/30 [01:02<00:31,  3.14s/it]"
          ]
        },
        {
          "output_type": "stream",
          "name": "stdout",
          "text": [
            "Trial 20: StandardACO Best Distance = 5.0269, ImprovedACO Best Distance = 4.8202\n"
          ]
        },
        {
          "output_type": "stream",
          "name": "stderr",
          "text": [
            "\rTrials for node size 30:  70%|███████   | 21/30 [01:05<00:28,  3.17s/it]"
          ]
        },
        {
          "output_type": "stream",
          "name": "stdout",
          "text": [
            "Trial 21: StandardACO Best Distance = 4.4815, ImprovedACO Best Distance = 4.5383\n"
          ]
        },
        {
          "output_type": "stream",
          "name": "stderr",
          "text": [
            "\rTrials for node size 30:  73%|███████▎  | 22/30 [01:08<00:25,  3.21s/it]"
          ]
        },
        {
          "output_type": "stream",
          "name": "stdout",
          "text": [
            "Trial 22: StandardACO Best Distance = 4.6170, ImprovedACO Best Distance = 4.6202\n"
          ]
        },
        {
          "output_type": "stream",
          "name": "stderr",
          "text": [
            "\rTrials for node size 30:  77%|███████▋  | 23/30 [01:12<00:22,  3.20s/it]"
          ]
        },
        {
          "output_type": "stream",
          "name": "stdout",
          "text": [
            "Trial 23: StandardACO Best Distance = 4.6934, ImprovedACO Best Distance = 4.6881\n"
          ]
        },
        {
          "output_type": "stream",
          "name": "stderr",
          "text": [
            "\rTrials for node size 30:  80%|████████  | 24/30 [01:15<00:19,  3.18s/it]"
          ]
        },
        {
          "output_type": "stream",
          "name": "stdout",
          "text": [
            "Trial 24: StandardACO Best Distance = 4.8090, ImprovedACO Best Distance = 4.7427\n"
          ]
        },
        {
          "output_type": "stream",
          "name": "stderr",
          "text": [
            "\rTrials for node size 30:  83%|████████▎ | 25/30 [01:18<00:15,  3.15s/it]"
          ]
        },
        {
          "output_type": "stream",
          "name": "stdout",
          "text": [
            "Trial 25: StandardACO Best Distance = 4.7798, ImprovedACO Best Distance = 4.7150\n"
          ]
        },
        {
          "output_type": "stream",
          "name": "stderr",
          "text": [
            "\rTrials for node size 30:  87%|████████▋ | 26/30 [01:21<00:12,  3.13s/it]"
          ]
        },
        {
          "output_type": "stream",
          "name": "stdout",
          "text": [
            "Trial 26: StandardACO Best Distance = 5.2061, ImprovedACO Best Distance = 5.1020\n"
          ]
        },
        {
          "output_type": "stream",
          "name": "stderr",
          "text": [
            "\rTrials for node size 30:  90%|█████████ | 27/30 [01:24<00:09,  3.15s/it]"
          ]
        },
        {
          "output_type": "stream",
          "name": "stdout",
          "text": [
            "Trial 27: StandardACO Best Distance = 3.8763, ImprovedACO Best Distance = 3.8932\n"
          ]
        },
        {
          "output_type": "stream",
          "name": "stderr",
          "text": [
            "\rTrials for node size 30:  93%|█████████▎| 28/30 [01:28<00:06,  3.22s/it]"
          ]
        },
        {
          "output_type": "stream",
          "name": "stdout",
          "text": [
            "Trial 28: StandardACO Best Distance = 4.9064, ImprovedACO Best Distance = 4.7564\n"
          ]
        },
        {
          "output_type": "stream",
          "name": "stderr",
          "text": [
            "\rTrials for node size 30:  97%|█████████▋| 29/30 [01:31<00:03,  3.26s/it]"
          ]
        },
        {
          "output_type": "stream",
          "name": "stdout",
          "text": [
            "Trial 29: StandardACO Best Distance = 4.6505, ImprovedACO Best Distance = 4.6411\n"
          ]
        },
        {
          "output_type": "stream",
          "name": "stderr",
          "text": [
            "Trials for node size 30: 100%|██████████| 30/30 [01:34<00:00,  3.15s/it]"
          ]
        },
        {
          "output_type": "stream",
          "name": "stdout",
          "text": [
            "Trial 30: StandardACO Best Distance = 5.0892, ImprovedACO Best Distance = 4.9510\n"
          ]
        },
        {
          "output_type": "stream",
          "name": "stderr",
          "text": [
            "\n"
          ]
        },
        {
          "output_type": "display_data",
          "data": {
            "text/plain": [
              "<Figure size 1000x600 with 1 Axes>"
            ],
            "image/png": "[encoded data removed]"
          },
          "metadata": {}
        },
        {
          "output_type": "stream",
          "name": "stdout",
          "text": [
            "\n",
            "=== Node Size: 35 ===\n",
            "Generating synthetic data for training...\n"
          ]
        },
        {
          "output_type": "stream",
          "name": "stderr",
          "text": [
            "Generating TSP Solutions: 100%|██████████| 500/500 [11:19<00:00,  1.36s/it]\n"
          ]
        },
        {
          "output_type": "stream",
          "name": "stdout",
          "text": [
            "Training Transformer Model...\n",
            "Epoch 1/50, Train Loss: 308.1257, Val Loss: 7.0673\n",
            "Epoch 2/50, Train Loss: 4.6877, Val Loss: 1.9673\n",
            "Epoch 3/50, Train Loss: 1.2027, Val Loss: 0.3296\n",
            "Epoch 4/50, Train Loss: 0.4016, Val Loss: 0.0634\n",
            "Epoch 5/50, Train Loss: 0.2385, Val Loss: 0.0256\n",
            "Epoch 6/50, Train Loss: 0.1993, Val Loss: 0.0187\n",
            "Epoch 7/50, Train Loss: 0.1800, Val Loss: 0.0166\n",
            "Epoch 8/50, Train Loss: 0.1670, Val Loss: 0.0162\n",
            "Epoch 9/50, Train Loss: 0.1533, Val Loss: 0.0163\n",
            "Epoch 10/50, Train Loss: 0.1404, Val Loss: 0.0163\n",
            "Epoch 11/50, Train Loss: 0.1287, Val Loss: 0.0164\n",
            "Epoch 12/50, Train Loss: 0.1225, Val Loss: 0.0164\n",
            "Epoch 13/50, Train Loss: 0.1162, Val Loss: 0.0163\n",
            "Epoch 14/50, Train Loss: 0.1124, Val Loss: 0.0165\n",
            "Epoch 15/50, Train Loss: 0.1082, Val Loss: 0.0164\n",
            "Epoch 16/50, Train Loss: 0.1072, Val Loss: 0.0165\n",
            "Epoch 17/50, Train Loss: 0.1062, Val Loss: 0.0166\n",
            "Epoch 18/50, Train Loss: 0.1042, Val Loss: 0.0166\n",
            "Early stopping triggered.\n",
            "Running 30 trials for node size 35...\n"
          ]
        },
        {
          "output_type": "stream",
          "name": "stderr",
          "text": [
            "Trials for node size 35:   3%|▎         | 1/30 [00:03<01:46,  3.66s/it]"
          ]
        },
        {
          "output_type": "stream",
          "name": "stdout",
          "text": [
            "Trial 1: StandardACO Best Distance = 4.5858, ImprovedACO Best Distance = 4.4654\n"
          ]
        },
        {
          "output_type": "stream",
          "name": "stderr",
          "text": [
            "\rTrials for node size 35:   7%|▋         | 2/30 [00:07<01:43,  3.69s/it]"
          ]
        },
        {
          "output_type": "stream",
          "name": "stdout",
          "text": [
            "Trial 2: StandardACO Best Distance = 5.4301, ImprovedACO Best Distance = 5.4564\n"
          ]
        },
        {
          "output_type": "stream",
          "name": "stderr",
          "text": [
            "\rTrials for node size 35:  10%|█         | 3/30 [00:11<01:39,  3.68s/it]"
          ]
        },
        {
          "output_type": "stream",
          "name": "stdout",
          "text": [
            "Trial 3: StandardACO Best Distance = 4.8884, ImprovedACO Best Distance = 4.9219\n"
          ]
        },
        {
          "output_type": "stream",
          "name": "stderr",
          "text": [
            "\rTrials for node size 35:  13%|█▎        | 4/30 [00:15<01:38,  3.80s/it]"
          ]
        },
        {
          "output_type": "stream",
          "name": "stdout",
          "text": [
            "Trial 4: StandardACO Best Distance = 4.8080, ImprovedACO Best Distance = 4.6933\n"
          ]
        },
        {
          "output_type": "stream",
          "name": "stderr",
          "text": [
            "\rTrials for node size 35:  17%|█▋        | 5/30 [00:18<01:34,  3.77s/it]"
          ]
        },
        {
          "output_type": "stream",
          "name": "stdout",
          "text": [
            "Trial 5: StandardACO Best Distance = 5.6620, ImprovedACO Best Distance = 5.5430\n"
          ]
        },
        {
          "output_type": "stream",
          "name": "stderr",
          "text": [
            "\rTrials for node size 35:  20%|██        | 6/30 [00:22<01:29,  3.74s/it]"
          ]
        },
        {
          "output_type": "stream",
          "name": "stdout",
          "text": [
            "Trial 6: StandardACO Best Distance = 4.8809, ImprovedACO Best Distance = 4.8150\n"
          ]
        },
        {
          "output_type": "stream",
          "name": "stderr",
          "text": [
            "\rTrials for node size 35:  23%|██▎       | 7/30 [00:26<01:26,  3.77s/it]"
          ]
        },
        {
          "output_type": "stream",
          "name": "stdout",
          "text": [
            "Trial 7: StandardACO Best Distance = 4.9579, ImprovedACO Best Distance = 4.9257\n"
          ]
        },
        {
          "output_type": "stream",
          "name": "stderr",
          "text": [
            "\rTrials for node size 35:  27%|██▋       | 8/30 [00:29<01:22,  3.74s/it]"
          ]
        },
        {
          "output_type": "stream",
          "name": "stdout",
          "text": [
            "Trial 8: StandardACO Best Distance = 5.3285, ImprovedACO Best Distance = 5.2594\n"
          ]
        },
        {
          "output_type": "stream",
          "name": "stderr",
          "text": [
            "\rTrials for node size 35:  30%|███       | 9/30 [00:33<01:18,  3.72s/it]"
          ]
        },
        {
          "output_type": "stream",
          "name": "stdout",
          "text": [
            "Trial 9: StandardACO Best Distance = 4.4666, ImprovedACO Best Distance = 4.4612\n"
          ]
        },
        {
          "output_type": "stream",
          "name": "stderr",
          "text": [
            "\rTrials for node size 35:  33%|███▎      | 10/30 [00:37<01:15,  3.78s/it]"
          ]
        },
        {
          "output_type": "stream",
          "name": "stdout",
          "text": [
            "Trial 10: StandardACO Best Distance = 5.0402, ImprovedACO Best Distance = 5.2194\n"
          ]
        },
        {
          "output_type": "stream",
          "name": "stderr",
          "text": [
            "\rTrials for node size 35:  37%|███▋      | 11/30 [00:41<01:11,  3.78s/it]"
          ]
        },
        {
          "output_type": "stream",
          "name": "stdout",
          "text": [
            "Trial 11: StandardACO Best Distance = 5.5788, ImprovedACO Best Distance = 5.3960\n"
          ]
        },
        {
          "output_type": "stream",
          "name": "stderr",
          "text": [
            "\rTrials for node size 35:  40%|████      | 12/30 [00:45<01:07,  3.76s/it]"
          ]
        },
        {
          "output_type": "stream",
          "name": "stdout",
          "text": [
            "Trial 12: StandardACO Best Distance = 5.7861, ImprovedACO Best Distance = 5.6012\n"
          ]
        },
        {
          "output_type": "stream",
          "name": "stderr",
          "text": [
            "\rTrials for node size 35:  43%|████▎     | 13/30 [00:48<01:03,  3.76s/it]"
          ]
        },
        {
          "output_type": "stream",
          "name": "stdout",
          "text": [
            "Trial 13: StandardACO Best Distance = 5.0232, ImprovedACO Best Distance = 4.9878\n"
          ]
        },
        {
          "output_type": "stream",
          "name": "stderr",
          "text": [
            "\rTrials for node size 35:  47%|████▋     | 14/30 [00:52<00:59,  3.73s/it]"
          ]
        },
        {
          "output_type": "stream",
          "name": "stdout",
          "text": [
            "Trial 14: StandardACO Best Distance = 4.9430, ImprovedACO Best Distance = 4.8935\n"
          ]
        },
        {
          "output_type": "stream",
          "name": "stderr",
          "text": [
            "\rTrials for node size 35:  50%|█████     | 15/30 [00:56<00:56,  3.79s/it]"
          ]
        },
        {
          "output_type": "stream",
          "name": "stdout",
          "text": [
            "Trial 15: StandardACO Best Distance = 5.1726, ImprovedACO Best Distance = 5.2035\n"
          ]
        },
        {
          "output_type": "stream",
          "name": "stderr",
          "text": [
            "\rTrials for node size 35:  53%|█████▎    | 16/30 [01:00<00:53,  3.83s/it]"
          ]
        },
        {
          "output_type": "stream",
          "name": "stdout",
          "text": [
            "Trial 16: StandardACO Best Distance = 5.1734, ImprovedACO Best Distance = 5.2050\n"
          ]
        },
        {
          "output_type": "stream",
          "name": "stderr",
          "text": [
            "\rTrials for node size 35:  57%|█████▋    | 17/30 [01:03<00:49,  3.78s/it]"
          ]
        },
        {
          "output_type": "stream",
          "name": "stdout",
          "text": [
            "Trial 17: StandardACO Best Distance = 5.3300, ImprovedACO Best Distance = 5.3244\n"
          ]
        },
        {
          "output_type": "stream",
          "name": "stderr",
          "text": [
            "\rTrials for node size 35:  60%|██████    | 18/30 [01:07<00:44,  3.74s/it]"
          ]
        },
        {
          "output_type": "stream",
          "name": "stdout",
          "text": [
            "Trial 18: StandardACO Best Distance = 5.3955, ImprovedACO Best Distance = 5.1773\n"
          ]
        },
        {
          "output_type": "stream",
          "name": "stderr",
          "text": [
            "\rTrials for node size 35:  63%|██████▎   | 19/30 [01:11<00:40,  3.71s/it]"
          ]
        },
        {
          "output_type": "stream",
          "name": "stdout",
          "text": [
            "Trial 19: StandardACO Best Distance = 5.4220, ImprovedACO Best Distance = 5.6117\n"
          ]
        },
        {
          "output_type": "stream",
          "name": "stderr",
          "text": [
            "\rTrials for node size 35:  67%|██████▋   | 20/30 [01:15<00:38,  3.84s/it]"
          ]
        },
        {
          "output_type": "stream",
          "name": "stdout",
          "text": [
            "Trial 20: StandardACO Best Distance = 5.2744, ImprovedACO Best Distance = 4.8949\n"
          ]
        },
        {
          "output_type": "stream",
          "name": "stderr",
          "text": [
            "\rTrials for node size 35:  70%|███████   | 21/30 [01:19<00:34,  3.82s/it]"
          ]
        },
        {
          "output_type": "stream",
          "name": "stdout",
          "text": [
            "Trial 21: StandardACO Best Distance = 5.0303, ImprovedACO Best Distance = 5.0549\n"
          ]
        },
        {
          "output_type": "stream",
          "name": "stderr",
          "text": [
            "\rTrials for node size 35:  73%|███████▎  | 22/30 [01:22<00:30,  3.77s/it]"
          ]
        },
        {
          "output_type": "stream",
          "name": "stdout",
          "text": [
            "Trial 22: StandardACO Best Distance = 5.5019, ImprovedACO Best Distance = 5.2764\n"
          ]
        },
        {
          "output_type": "stream",
          "name": "stderr",
          "text": [
            "\rTrials for node size 35:  77%|███████▋  | 23/30 [01:26<00:26,  3.76s/it]"
          ]
        },
        {
          "output_type": "stream",
          "name": "stdout",
          "text": [
            "Trial 23: StandardACO Best Distance = 4.5980, ImprovedACO Best Distance = 4.6284\n"
          ]
        },
        {
          "output_type": "stream",
          "name": "stderr",
          "text": [
            "\rTrials for node size 35:  80%|████████  | 24/30 [01:30<00:22,  3.72s/it]"
          ]
        },
        {
          "output_type": "stream",
          "name": "stdout",
          "text": [
            "Trial 24: StandardACO Best Distance = 4.9643, ImprovedACO Best Distance = 4.8428\n"
          ]
        },
        {
          "output_type": "stream",
          "name": "stderr",
          "text": [
            "\rTrials for node size 35:  83%|████████▎ | 25/30 [01:33<00:18,  3.69s/it]"
          ]
        },
        {
          "output_type": "stream",
          "name": "stdout",
          "text": [
            "Trial 25: StandardACO Best Distance = 5.1165, ImprovedACO Best Distance = 5.2099\n"
          ]
        },
        {
          "output_type": "stream",
          "name": "stderr",
          "text": [
            "\rTrials for node size 35:  87%|████████▋ | 26/30 [01:37<00:14,  3.69s/it]"
          ]
        },
        {
          "output_type": "stream",
          "name": "stdout",
          "text": [
            "Trial 26: StandardACO Best Distance = 4.7814, ImprovedACO Best Distance = 4.6459\n"
          ]
        },
        {
          "output_type": "stream",
          "name": "stderr",
          "text": [
            "\rTrials for node size 35:  90%|█████████ | 27/30 [01:41<00:11,  3.69s/it]"
          ]
        },
        {
          "output_type": "stream",
          "name": "stdout",
          "text": [
            "Trial 27: StandardACO Best Distance = 5.0319, ImprovedACO Best Distance = 5.2340\n"
          ]
        },
        {
          "output_type": "stream",
          "name": "stderr",
          "text": [
            "\rTrials for node size 35:  93%|█████████▎| 28/30 [01:44<00:07,  3.68s/it]"
          ]
        },
        {
          "output_type": "stream",
          "name": "stdout",
          "text": [
            "Trial 28: StandardACO Best Distance = 5.2188, ImprovedACO Best Distance = 5.1787\n"
          ]
        },
        {
          "output_type": "stream",
          "name": "stderr",
          "text": [
            "\rTrials for node size 35:  97%|█████████▋| 29/30 [01:48<00:03,  3.75s/it]"
          ]
        },
        {
          "output_type": "stream",
          "name": "stdout",
          "text": [
            "Trial 29: StandardACO Best Distance = 5.4120, ImprovedACO Best Distance = 5.2030\n"
          ]
        },
        {
          "output_type": "stream",
          "name": "stderr",
          "text": [
            "Trials for node size 35: 100%|██████████| 30/30 [01:52<00:00,  3.75s/it]"
          ]
        },
        {
          "output_type": "stream",
          "name": "stdout",
          "text": [
            "Trial 30: StandardACO Best Distance = 4.9849, ImprovedACO Best Distance = 5.0561\n"
          ]
        },
        {
          "output_type": "stream",
          "name": "stderr",
          "text": [
            "\n"
          ]
        },
        {
          "output_type": "display_data",
          "data": {
            "text/plain": [
              "<Figure size 1000x600 with 1 Axes>"
            ],
            "image/png": "[encoded data removed]"
          },
          "metadata": {}
        },
        {
          "output_type": "stream",
          "name": "stdout",
          "text": [
            "\n",
            "=== Node Size: 40 ===\n",
            "Generating synthetic data for training...\n"
          ]
        },
        {
          "output_type": "stream",
          "name": "stderr",
          "text": [
            "Generating TSP Solutions: 100%|██████████| 500/500 [13:08<00:00,  1.58s/it]\n"
          ]
        },
        {
          "output_type": "stream",
          "name": "stdout",
          "text": [
            "Training Transformer Model...\n",
            "Epoch 1/50, Train Loss: 184.1094, Val Loss: 11.8078\n",
            "Epoch 2/50, Train Loss: 6.5744, Val Loss: 2.0477\n",
            "Epoch 3/50, Train Loss: 1.1809, Val Loss: 0.2240\n",
            "Epoch 4/50, Train Loss: 0.3225, Val Loss: 0.0388\n",
            "Epoch 5/50, Train Loss: 0.2139, Val Loss: 0.0170\n",
            "Epoch 6/50, Train Loss: 0.1820, Val Loss: 0.0145\n",
            "Epoch 7/50, Train Loss: 0.1669, Val Loss: 0.0142\n",
            "Epoch 8/50, Train Loss: 0.1587, Val Loss: 0.0142\n",
            "Epoch 9/50, Train Loss: 0.1498, Val Loss: 0.0143\n",
            "Epoch 10/50, Train Loss: 0.1392, Val Loss: 0.0143\n",
            "Epoch 11/50, Train Loss: 0.1311, Val Loss: 0.0143\n",
            "Epoch 12/50, Train Loss: 0.1216, Val Loss: 0.0143\n",
            "Epoch 13/50, Train Loss: 0.1118, Val Loss: 0.0142\n",
            "Epoch 14/50, Train Loss: 0.1058, Val Loss: 0.0142\n",
            "Epoch 15/50, Train Loss: 0.1004, Val Loss: 0.0142\n",
            "Epoch 16/50, Train Loss: 0.0986, Val Loss: 0.0142\n",
            "Epoch 17/50, Train Loss: 0.0959, Val Loss: 0.0142\n",
            "Epoch 18/50, Train Loss: 0.0925, Val Loss: 0.0142\n",
            "Epoch 19/50, Train Loss: 0.0899, Val Loss: 0.0142\n",
            "Epoch 20/50, Train Loss: 0.0882, Val Loss: 0.0142\n",
            "Epoch 21/50, Train Loss: 0.0857, Val Loss: 0.0142\n",
            "Epoch 22/50, Train Loss: 0.0837, Val Loss: 0.0143\n",
            "Epoch 23/50, Train Loss: 0.0817, Val Loss: 0.0142\n",
            "Epoch 24/50, Train Loss: 0.0803, Val Loss: 0.0142\n",
            "Epoch 25/50, Train Loss: 0.0791, Val Loss: 0.0143\n",
            "Epoch 26/50, Train Loss: 0.0786, Val Loss: 0.0143\n",
            "Early stopping triggered.\n",
            "Running 30 trials for node size 40...\n"
          ]
        },
        {
          "output_type": "stream",
          "name": "stderr",
          "text": [
            "Trials for node size 40:   3%|▎         | 1/30 [00:04<02:07,  4.39s/it]"
          ]
        },
        {
          "output_type": "stream",
          "name": "stdout",
          "text": [
            "Trial 1: StandardACO Best Distance = 4.5855, ImprovedACO Best Distance = 4.5664\n"
          ]
        },
        {
          "output_type": "stream",
          "name": "stderr",
          "text": [
            "\rTrials for node size 40:   7%|▋         | 2/30 [00:08<02:01,  4.34s/it]"
          ]
        },
        {
          "output_type": "stream",
          "name": "stdout",
          "text": [
            "Trial 2: StandardACO Best Distance = 4.6385, ImprovedACO Best Distance = 4.7423\n"
          ]
        },
        {
          "output_type": "stream",
          "name": "stderr",
          "text": [
            "\rTrials for node size 40:  10%|█         | 3/30 [00:13<02:01,  4.52s/it]"
          ]
        },
        {
          "output_type": "stream",
          "name": "stdout",
          "text": [
            "Trial 3: StandardACO Best Distance = 5.5411, ImprovedACO Best Distance = 5.5660\n"
          ]
        },
        {
          "output_type": "stream",
          "name": "stderr",
          "text": [
            "\rTrials for node size 40:  13%|█▎        | 4/30 [00:17<01:55,  4.46s/it]"
          ]
        },
        {
          "output_type": "stream",
          "name": "stdout",
          "text": [
            "Trial 4: StandardACO Best Distance = 5.7026, ImprovedACO Best Distance = 5.8785\n"
          ]
        },
        {
          "output_type": "stream",
          "name": "stderr",
          "text": [
            "\rTrials for node size 40:  17%|█▋        | 5/30 [00:22<01:49,  4.38s/it]"
          ]
        },
        {
          "output_type": "stream",
          "name": "stdout",
          "text": [
            "Trial 5: StandardACO Best Distance = 5.5940, ImprovedACO Best Distance = 5.8788\n"
          ]
        },
        {
          "output_type": "stream",
          "name": "stderr",
          "text": [
            "\rTrials for node size 40:  20%|██        | 6/30 [00:26<01:44,  4.35s/it]"
          ]
        },
        {
          "output_type": "stream",
          "name": "stdout",
          "text": [
            "Trial 6: StandardACO Best Distance = 5.2246, ImprovedACO Best Distance = 5.0249\n"
          ]
        },
        {
          "output_type": "stream",
          "name": "stderr",
          "text": [
            "\rTrials for node size 40:  23%|██▎       | 7/30 [00:30<01:39,  4.31s/it]"
          ]
        },
        {
          "output_type": "stream",
          "name": "stdout",
          "text": [
            "Trial 7: StandardACO Best Distance = 4.7101, ImprovedACO Best Distance = 5.2338\n"
          ]
        },
        {
          "output_type": "stream",
          "name": "stderr",
          "text": [
            "\rTrials for node size 40:  27%|██▋       | 8/30 [00:35<01:38,  4.46s/it]"
          ]
        },
        {
          "output_type": "stream",
          "name": "stdout",
          "text": [
            "Trial 8: StandardACO Best Distance = 5.5620, ImprovedACO Best Distance = 5.4481\n"
          ]
        },
        {
          "output_type": "stream",
          "name": "stderr",
          "text": [
            "\rTrials for node size 40:  30%|███       | 9/30 [00:39<01:32,  4.41s/it]"
          ]
        },
        {
          "output_type": "stream",
          "name": "stdout",
          "text": [
            "Trial 9: StandardACO Best Distance = 5.4312, ImprovedACO Best Distance = 5.2453\n"
          ]
        },
        {
          "output_type": "stream",
          "name": "stderr",
          "text": [
            "\rTrials for node size 40:  33%|███▎      | 10/30 [00:43<01:27,  4.37s/it]"
          ]
        },
        {
          "output_type": "stream",
          "name": "stdout",
          "text": [
            "Trial 10: StandardACO Best Distance = 6.3415, ImprovedACO Best Distance = 6.3898\n"
          ]
        },
        {
          "output_type": "stream",
          "name": "stderr",
          "text": [
            "\rTrials for node size 40:  37%|███▋      | 11/30 [00:48<01:23,  4.37s/it]"
          ]
        },
        {
          "output_type": "stream",
          "name": "stdout",
          "text": [
            "Trial 11: StandardACO Best Distance = 5.6272, ImprovedACO Best Distance = 5.9100\n"
          ]
        },
        {
          "output_type": "stream",
          "name": "stderr",
          "text": [
            "\rTrials for node size 40:  40%|████      | 12/30 [00:52<01:18,  4.33s/it]"
          ]
        },
        {
          "output_type": "stream",
          "name": "stdout",
          "text": [
            "Trial 12: StandardACO Best Distance = 5.5074, ImprovedACO Best Distance = 5.7314\n"
          ]
        },
        {
          "output_type": "stream",
          "name": "stderr",
          "text": [
            "\rTrials for node size 40:  43%|████▎     | 13/30 [00:56<01:13,  4.31s/it]"
          ]
        },
        {
          "output_type": "stream",
          "name": "stdout",
          "text": [
            "Trial 13: StandardACO Best Distance = 5.2611, ImprovedACO Best Distance = 5.1659\n"
          ]
        },
        {
          "output_type": "stream",
          "name": "stderr",
          "text": [
            "\rTrials for node size 40:  47%|████▋     | 14/30 [01:01<01:09,  4.35s/it]"
          ]
        },
        {
          "output_type": "stream",
          "name": "stdout",
          "text": [
            "Trial 14: StandardACO Best Distance = 5.5732, ImprovedACO Best Distance = 5.6594\n"
          ]
        },
        {
          "output_type": "stream",
          "name": "stderr",
          "text": [
            "\rTrials for node size 40:  50%|█████     | 15/30 [01:05<01:04,  4.31s/it]"
          ]
        },
        {
          "output_type": "stream",
          "name": "stdout",
          "text": [
            "Trial 15: StandardACO Best Distance = 5.2501, ImprovedACO Best Distance = 5.3445\n"
          ]
        },
        {
          "output_type": "stream",
          "name": "stderr",
          "text": [
            "\rTrials for node size 40:  53%|█████▎    | 16/30 [01:09<00:59,  4.28s/it]"
          ]
        },
        {
          "output_type": "stream",
          "name": "stdout",
          "text": [
            "Trial 16: StandardACO Best Distance = 5.7511, ImprovedACO Best Distance = 5.5599\n"
          ]
        },
        {
          "output_type": "stream",
          "name": "stderr",
          "text": [
            "\rTrials for node size 40:  57%|█████▋    | 17/30 [01:13<00:55,  4.25s/it]"
          ]
        },
        {
          "output_type": "stream",
          "name": "stdout",
          "text": [
            "Trial 17: StandardACO Best Distance = 5.4515, ImprovedACO Best Distance = 5.5370\n"
          ]
        },
        {
          "output_type": "stream",
          "name": "stderr",
          "text": [
            "\rTrials for node size 40:  60%|██████    | 18/30 [01:18<00:50,  4.24s/it]"
          ]
        },
        {
          "output_type": "stream",
          "name": "stdout",
          "text": [
            "Trial 18: StandardACO Best Distance = 5.3062, ImprovedACO Best Distance = 4.9992\n"
          ]
        },
        {
          "output_type": "stream",
          "name": "stderr",
          "text": [
            "\rTrials for node size 40:  63%|██████▎   | 19/30 [01:22<00:46,  4.24s/it]"
          ]
        },
        {
          "output_type": "stream",
          "name": "stdout",
          "text": [
            "Trial 19: StandardACO Best Distance = 6.0143, ImprovedACO Best Distance = 5.8127\n"
          ]
        },
        {
          "output_type": "stream",
          "name": "stderr",
          "text": [
            "\rTrials for node size 40:  67%|██████▋   | 20/30 [01:26<00:42,  4.23s/it]"
          ]
        },
        {
          "output_type": "stream",
          "name": "stdout",
          "text": [
            "Trial 20: StandardACO Best Distance = 5.7764, ImprovedACO Best Distance = 5.8119\n"
          ]
        },
        {
          "output_type": "stream",
          "name": "stderr",
          "text": [
            "\rTrials for node size 40:  70%|███████   | 21/30 [01:30<00:38,  4.24s/it]"
          ]
        },
        {
          "output_type": "stream",
          "name": "stdout",
          "text": [
            "Trial 21: StandardACO Best Distance = 5.4098, ImprovedACO Best Distance = 5.3953\n"
          ]
        },
        {
          "output_type": "stream",
          "name": "stderr",
          "text": [
            "\rTrials for node size 40:  73%|███████▎  | 22/30 [01:35<00:34,  4.25s/it]"
          ]
        },
        {
          "output_type": "stream",
          "name": "stdout",
          "text": [
            "Trial 22: StandardACO Best Distance = 5.2079, ImprovedACO Best Distance = 5.2830\n"
          ]
        },
        {
          "output_type": "stream",
          "name": "stderr",
          "text": [
            "\rTrials for node size 40:  77%|███████▋  | 23/30 [01:39<00:29,  4.24s/it]"
          ]
        },
        {
          "output_type": "stream",
          "name": "stdout",
          "text": [
            "Trial 23: StandardACO Best Distance = 4.8997, ImprovedACO Best Distance = 4.9807\n"
          ]
        },
        {
          "output_type": "stream",
          "name": "stderr",
          "text": [
            "\rTrials for node size 40:  80%|████████  | 24/30 [01:43<00:25,  4.22s/it]"
          ]
        },
        {
          "output_type": "stream",
          "name": "stdout",
          "text": [
            "Trial 24: StandardACO Best Distance = 5.6861, ImprovedACO Best Distance = 5.4750\n"
          ]
        },
        {
          "output_type": "stream",
          "name": "stderr",
          "text": [
            "\rTrials for node size 40:  83%|████████▎ | 25/30 [01:47<00:21,  4.24s/it]"
          ]
        },
        {
          "output_type": "stream",
          "name": "stdout",
          "text": [
            "Trial 25: StandardACO Best Distance = 5.4501, ImprovedACO Best Distance = 5.5503\n"
          ]
        },
        {
          "output_type": "stream",
          "name": "stderr",
          "text": [
            "\rTrials for node size 40:  87%|████████▋ | 26/30 [01:52<00:17,  4.29s/it]"
          ]
        },
        {
          "output_type": "stream",
          "name": "stdout",
          "text": [
            "Trial 26: StandardACO Best Distance = 4.9166, ImprovedACO Best Distance = 4.9690\n"
          ]
        },
        {
          "output_type": "stream",
          "name": "stderr",
          "text": [
            "\rTrials for node size 40:  90%|█████████ | 27/30 [01:56<00:12,  4.31s/it]"
          ]
        },
        {
          "output_type": "stream",
          "name": "stdout",
          "text": [
            "Trial 27: StandardACO Best Distance = 5.7512, ImprovedACO Best Distance = 5.5552\n"
          ]
        },
        {
          "output_type": "stream",
          "name": "stderr",
          "text": [
            "\rTrials for node size 40:  93%|█████████▎| 28/30 [02:00<00:08,  4.28s/it]"
          ]
        },
        {
          "output_type": "stream",
          "name": "stdout",
          "text": [
            "Trial 28: StandardACO Best Distance = 5.7046, ImprovedACO Best Distance = 5.6701\n"
          ]
        },
        {
          "output_type": "stream",
          "name": "stderr",
          "text": [
            "\rTrials for node size 40:  97%|█████████▋| 29/30 [02:04<00:04,  4.26s/it]"
          ]
        },
        {
          "output_type": "stream",
          "name": "stdout",
          "text": [
            "Trial 29: StandardACO Best Distance = 5.4144, ImprovedACO Best Distance = 5.4263\n"
          ]
        },
        {
          "output_type": "stream",
          "name": "stderr",
          "text": [
            "Trials for node size 40: 100%|██████████| 30/30 [02:09<00:00,  4.30s/it]"
          ]
        },
        {
          "output_type": "stream",
          "name": "stdout",
          "text": [
            "Trial 30: StandardACO Best Distance = 5.1295, ImprovedACO Best Distance = 4.8967\n"
          ]
        },
        {
          "output_type": "stream",
          "name": "stderr",
          "text": [
            "\n"
          ]
        },
        {
          "output_type": "display_data",
          "data": {
            "text/plain": [
              "<Figure size 1000x600 with 1 Axes>"
            ],
            "image/png": "[encoded data removed]"
          },
          "metadata": {}
        },
        {
          "output_type": "stream",
          "name": "stdout",
          "text": [
            "\n",
            "=== Statistical Significance Testing ===\n",
            "Node Size 30: p-value = 6.0565e-02\n",
            "Node Size 35: p-value = 5.2263e-02\n",
            "Node Size 40: p-value = 8.8719e-01\n"
          ]
        },
        {
          "output_type": "display_data",
          "data": {
            "text/plain": [
              "<Figure size 1200x600 with 1 Axes>"
            ],
            "image/png": "[encoded data removed]"
          },
          "metadata": {}
        }
      ],
      "source": [
        "node_sizes = [30, 35, 40]\n",
        "\n",
        "num_trials = 30\n",
        "iterations = 50\n",
        "num_ants = 20\n",
        "alpha = 1.0\n",
        "beta = 2.0\n",
        "evaporation_rate = 0.5\n",
        "Q = 100\n",
        "\n",
        "results = run_experiment(\n",
        "    node_sizes=node_sizes,\n",
        "    num_trials=num_trials,\n",
        "    iterations=iterations,\n",
        "    num_ants=num_ants,\n",
        "    alpha=alpha,\n",
        "    beta=beta,\n",
        "    evaporation_rate=evaporation_rate,\n",
        "    Q=Q\n",
        ")\n",
        "\n",
        "print(\"\\n=== Statistical Significance Testing ===\")\n",
        "p_values = perform_statistical_tests(results)\n",
        "\n",
        "plot_results(results, p_values)\n"
      ]
    }
  ],
  "metadata": {
    "accelerator": "GPU",
    "colab": {
      "gpuType": "A100",
      "provenance": []
    },
    "kernelspec": {
      "display_name": "Python 3",
      "name": "python3"
    },
    "language_info": {
      "name": "python"
    }
  },
  "nbformat": 4,
  "nbformat_minor": 0
}